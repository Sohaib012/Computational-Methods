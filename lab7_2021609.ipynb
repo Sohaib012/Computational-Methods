{
 "cells": [
  {
   "cell_type": "markdown",
   "metadata": {},
   "source": [
    "#### Sohaib Nasir  Lab 07   CE442L\n"
   ]
  },
  {
   "cell_type": "markdown",
   "metadata": {},
   "source": [
    "#### n+1 general approx"
   ]
  },
  {
   "cell_type": "code",
   "execution_count": null,
   "metadata": {},
   "outputs": [
    {
     "name": "stdout",
     "output_type": "stream",
     "text": [
      "Exact derivative at x : 1.6487212707001282\n",
      "Lagrange derivative at x : 1.718281828459045\n",
      "Absolute error: 0.0695605577589169\n"
     ]
    }
   ],
   "source": [
    "import numpy as np\n",
    "\n",
    "def f(x):\n",
    "    return np.exp(x)\n",
    "\n",
    "def exact_derivative(x):\n",
    "    return np.exp(x)  # The derivative of e^x is e^x\n",
    "\n",
    "x_points = np.array([0, 0.5, 1])  # Example points\n",
    "f_values = f(x_points)  # Function values at the points\n",
    "\n",
    "def lagrange_basis_derivative(i, x, x_points):\n",
    "    n = len(x_points) - 1\n",
    "    L_prime = 0\n",
    "    for j in range(n + 1):\n",
    "        if j != i:\n",
    "            product = 1\n",
    "            for k in range(n + 1):\n",
    "                if k != i and k != j:\n",
    "                    product *= (x - x_points[k]) / (x_points[i] - x_points[k])\n",
    "            L_prime += product / (x_points[i] - x_points[j])\n",
    "    return L_prime\n",
    "\n",
    "def lagrange_derivative(x, x_points, f_values):\n",
    "    n = len(x_points) - 1\n",
    "    derivative = 0\n",
    "    for i in range(n + 1):\n",
    "        # Compute the derivative of L_i(x)\n",
    "        L_prime = lagrange_basis_derivative(i, x, x_points)\n",
    "        # Multiply by the function value f(x_i)\n",
    "        derivative += f_values[i] * L_prime\n",
    "    return derivative\n",
    "\n",
    "# Calculate the derivative at x = 0.5\n",
    "x_derivative = 0.5\n",
    "derivative_at_x = lagrange_derivative(x_derivative, x_points, f_values)\n",
    "\n",
    "# Output the result\n",
    "# print(f\"The derivative of e^x at x  is approximately {derivative_at_x}\")\n",
    "exact_derivative_at_x = exact_derivative(x_derivative)\n",
    "\n",
    "# Compute the absolute error between the Lagrange derivative and the exact derivative\n",
    "error = abs(derivative_at_x - exact_derivative_at_x)\n",
    "\n",
    "# Output the results\n",
    "print(f\"Exact derivative at x : {exact_derivative_at_x}\")\n",
    "print(f\"Lagrange derivative at x : {derivative_at_x}\")\n",
    "print(f\"Absolute error: {error}\")\n"
   ]
  },
  {
   "cell_type": "markdown",
   "metadata": {},
   "source": [
    "#### 3 point formula"
   ]
  },
  {
   "cell_type": "code",
   "execution_count": null,
   "metadata": {},
   "outputs": [
    {
     "name": "stdout",
     "output_type": "stream",
     "text": [
      "The exact derivative of e^x at x = 0 is 1.0\n",
      "The derivative at x = 0 using the 3-point endpoint formula is approximately 0.996404570712105\n",
      "The derivative at x = 0 using the 3-point midpoint formula is approximately 1.001667500198441\n",
      "Absolute error using endpoint formula: 0.0035954292878950245\n",
      "Absolute error using midpoint formula: 0.0016675001984409743\n"
     ]
    }
   ],
   "source": [
    "import numpy as np\n",
    "\n",
    "def f(x):\n",
    "    return np.exp(x)\n",
    "\n",
    "def exact_derivative(x):\n",
    "    return np.exp(x)\n",
    "\n",
    "x0 = 0  # Point where we calculate the derivative\n",
    "h = 0.1  # Step size\n",
    "\n",
    "def endpoint_formula(f, x0, h):\n",
    "    return (-3*f(x0) + 4*f(x0 + h) - f(x0 + 2*h)) / (2 * h)\n",
    "\n",
    "def midpoint_formula(f, x0, h):\n",
    "    return (f(x0 + h) - f(x0 - h)) / (2 * h)\n",
    "\n",
    "endpoint_derivative = endpoint_formula(f, x0, h)\n",
    "midpoint_derivative = midpoint_formula(f, x0, h)\n",
    "\n",
    "exact_derivative_at_x0 = exact_derivative(x0)\n",
    "\n",
    "endpoint_error = abs(endpoint_derivative - exact_derivative_at_x0)\n",
    "midpoint_error = abs(midpoint_derivative - exact_derivative_at_x0)\n",
    "\n",
    "print(f\"The exact derivative of e^x at x = {x0} is {exact_derivative_at_x0}\")\n",
    "print(f\"The derivative at x = {x0} using the 3-point endpoint formula is approximately {endpoint_derivative}\")\n",
    "print(f\"The derivative at x = {x0} using the 3-point midpoint formula is approximately {midpoint_derivative}\")\n",
    "print(f\"Absolute error using endpoint formula: {endpoint_error}\")\n",
    "print(f\"Absolute error using midpoint formula: {midpoint_error}\")\n"
   ]
  },
  {
   "cell_type": "markdown",
   "metadata": {},
   "source": [
    "#### Trapeziod rule"
   ]
  },
  {
   "cell_type": "code",
   "execution_count": 25,
   "metadata": {},
   "outputs": [
    {
     "name": "stdout",
     "output_type": "stream",
     "text": [
      "The exact integral of sin(x) from 0 to 4 is 1.6536436208636118\n",
      "The integral approximation using the trapezoidal rule is -1.5136049906158564\n",
      "Absolute error: 3.1672486114794682\n"
     ]
    }
   ],
   "source": [
    "import numpy as np\n",
    "\n",
    "def f(x):\n",
    "    return np.sin(x)\n",
    "\n",
    "def exact_integral(a, b):\n",
    "    return -np.cos(b) + np.cos(a)\n",
    "\n",
    "def trapezoidal_rule(f, a, b):\n",
    "    h = b - a\n",
    "    return (h / 2) * (f(a) + f(b))\n",
    "\n",
    "# Set the interval [a, b]\n",
    "a = 0\n",
    "b = 4\n",
    "\n",
    "approx_integral = trapezoidal_rule(f, a, b)\n",
    "exact_integral_value = exact_integral(a, b)\n",
    "error = abs(approx_integral - exact_integral_value)\n",
    "\n",
    "print(f\"The exact integral of sin(x) from {a} to {b} is {exact_integral_value}\")\n",
    "print(f\"The integral approximation using the trapezoidal rule is {approx_integral}\")\n",
    "print(f\"Absolute error: {error}\")\n"
   ]
  },
  {
   "cell_type": "code",
   "execution_count": null,
   "metadata": {},
   "outputs": [],
   "source": []
  }
 ],
 "metadata": {
  "kernelspec": {
   "display_name": "Python 3",
   "language": "python",
   "name": "python3"
  },
  "language_info": {
   "codemirror_mode": {
    "name": "ipython",
    "version": 3
   },
   "file_extension": ".py",
   "mimetype": "text/x-python",
   "name": "python",
   "nbconvert_exporter": "python",
   "pygments_lexer": "ipython3",
   "version": "3.12.4"
  }
 },
 "nbformat": 4,
 "nbformat_minor": 2
}
