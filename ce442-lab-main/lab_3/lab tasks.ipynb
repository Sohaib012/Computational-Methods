{
 "cells": [
  {
   "cell_type": "markdown",
   "metadata": {},
   "source": [
    "# Lab 3: Tasks\n",
    "\n",
    "## Task 1\n",
    "\n",
    "**Objective**: Implement Fixed Point Iteration to find the root of $f(x) = cos(x) - x$.\n",
    "\n",
    "**Instructions**:\n",
    "1. **Define** the function $ g(x) = \\cos(x) $.\n",
    "2. **Set** an initial guess $ x_0 = 0 $.\n",
    "3. **Implement** Fixed Point Iteration for a maximum of 100 iterations or until convergence ($ |x_{n+1} - x_n| < 10^{-7} $). Store each approximation.\n",
    "4. **Plot** the function $ g(x) $ and mark the iterations with red scatter points.\n",
    "5. **Plot** $f(x)$ and $g(x)$ from -1 to 2, marking iterations with red scatter points. \n",
    "6. **Output** the found root and display the plot.\n",
    "\n",
    "## Task 2\n",
    "\n",
    "**Objective**: Implement Newton's Method to find the root of $ f(x) = e^x - 2 $.\n",
    "\n",
    "**Instructions**:\n",
    "1. **Define** the function $ f(x) $ and its derivative $ f'(x) $.\n",
    "2. **Set** an initial guess $ x_0 = 0.5 $.\n",
    "3. **Implement** Newton's Method for a maximum of 100 iterations or until convergence ($ |x_{n+1} - x_n| < 10^{-7} $). Store each approximation.\n",
    "4. **Plot** $ f(x) $ from -1 to 2, marking iterations with red scatter points.\n",
    "5. **Output** the found root and display the plot."
   ]
  },
  {
   "cell_type": "markdown",
   "metadata": {},
   "source": []
  }
 ],
 "metadata": {
  "language_info": {
   "name": "python"
  }
 },
 "nbformat": 4,
 "nbformat_minor": 2
}
