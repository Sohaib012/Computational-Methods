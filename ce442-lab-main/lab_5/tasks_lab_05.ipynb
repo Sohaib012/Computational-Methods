{
 "cells": [
  {
   "cell_type": "markdown",
   "metadata": {},
   "source": [
    "## Lab 5\n",
    "\n",
    "### Task 1: find polynomial approximation for x = -5 to x = 2.1 using newton divided difference method. **Use centered differences.**\n",
    "\n",
    "$$f(x) = a_0 + a_1(x - x_0) + a_2(x - x_0)(x - x_1) + \\cdots + a_n(x - x_0)(x - x_1) \\cdots (x - x_{n-1})$$\n",
    "\n",
    "which can be re-written as\n",
    "\n",
    "$$f(x) = \\sum_{i=0}^{n} a_i n_i(x)$$\n",
    "\n",
    "where \n",
    "\n",
    "$$n_i(x) = \\prod_{j=0}^{i-1} (x - x_j)$$\n",
    "\n",
    "| **x** | **y** |\n",
    "|-------|-------|\n",
    "|  -5   |  -2   |\n",
    "|  -1   |   6   |\n",
    "|   0   |   1   |\n",
    "|   2   |   3   |\n"
   ]
  },
  {
   "cell_type": "markdown",
   "metadata": {},
   "source": []
  }
 ],
 "metadata": {
  "language_info": {
   "name": "python"
  }
 },
 "nbformat": 4,
 "nbformat_minor": 2
}
