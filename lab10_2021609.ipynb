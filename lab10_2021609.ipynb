{
 "cells": [
  {
   "cell_type": "code",
   "execution_count": null,
   "metadata": {},
   "outputs": [
    {
     "name": "stdout",
     "output_type": "stream",
     "text": [
      "for 0 iterations x=[ 0.6         2.27272727 -1.1         1.875     ]\n",
      "for 1 iterations x=[ 1.04727273  1.71590909 -0.80522727  0.88522727]\n",
      "for 2 iterations x=[ 0.93263636  2.05330579 -1.04934091  1.13088068]\n",
      "for 3 iterations x=[ 1.01519876  1.95369576 -0.96810863  0.97384272]\n",
      "for 4 iterations x=[ 0.9889913   2.01141473 -1.0102859   1.02135051]\n",
      "for 5 iterations x=[ 1.00319865  1.99224126 -0.99452174  0.99443374]\n",
      "for 6 iterations x=[ 0.99812847  2.00230688 -1.00197223  1.00359431]\n",
      "for 7 iterations x=[ 1.00062513  1.9986703  -0.99903558  0.99888839]\n",
      "for 8 iterations x=[ 0.99967415  2.00044767 -1.00036916  1.00061919]\n",
      "for 9 iterations x=[ 1.0001186   1.99976795 -0.99982814  0.99978598]\n",
      "Max iterations reached\n",
      "[ 1.0001186   1.99976795 -0.99982814  0.99978598]\n"
     ]
    }
   ],
   "source": [
    "import numpy as np\n",
    "\n",
    "def jacobi_method(A, b, tol=1e-6, max_iter=10):\n",
    "    n = len(b)\n",
    "    x = np.zeros(n)  \n",
    "    x_new = np.zeros(n) \n",
    "    for it in range(max_iter):\n",
    "        for i in range(n):\n",
    "            sum_ = 0\n",
    "            for j in range(n):\n",
    "                if i != j:\n",
    "                    sum_ += A[i][j] * x[j]\n",
    "            x_new[i] = (b[i] - sum_) / A[i][i]\n",
    "        \n",
    "        print(f'for {it} iterations x={x_new}')\n",
    "        x = np.copy(x_new)    \n",
    "    print(\"Max iterations reached\")\n",
    "    return x_new\n",
    "\n",
    "A = np.array([[10, -1, 2, 0],\n",
    "              [-1, 11, -1, 3],\n",
    "              [2, -1, 10, -1],\n",
    "              [0, 3, -1, 8]], dtype=float)\n",
    "\n",
    "b = np.array([6, 25, -11, 15], dtype=float)\n",
    "x_jacobi = jacobi_method(A, b)\n",
    "print(x_jacobi)\n"
   ]
  },
  {
   "cell_type": "code",
   "execution_count": null,
   "metadata": {},
   "outputs": [
    {
     "name": "stdout",
     "output_type": "stream",
     "text": [
      "for 0 iterations x=[ 0.6         2.32727273 -0.98727273  0.87886364]\n",
      "for 1 iterations x=[ 1.03018182  2.03693802 -1.0144562   0.98434122]\n",
      "for 2 iterations x=[ 1.00658504  2.00355502 -1.00252738  0.99835095]\n",
      "for 3 iterations x=[ 1.00086098  2.00029825 -1.00030728  0.99984975]\n",
      "for 4 iterations x=[ 1.00009128  2.00002134 -1.00003115  0.9999881 ]\n",
      "for 5 iterations x=[ 1.00000836  2.00000117 -1.00000275  0.99999922]\n",
      "for 6 iterations x=[ 1.00000067  2.00000002 -1.00000021  0.99999996]\n",
      "for 7 iterations x=[ 1.00000004  1.99999999 -1.00000001  1.        ]\n",
      "Converged in 8 iterations\n",
      "[ 1.00000004  1.99999999 -1.00000001  1.        ]\n"
     ]
    }
   ],
   "source": [
    "import numpy as np\n",
    "\n",
    "def gauss_seidel_method(A, b, tol=1e-6, max_iter=10):\n",
    "    n = len(b)\n",
    "    x = np.zeros(n)  \n",
    "    \n",
    "    for it in range(max_iter):\n",
    "        x_old = np.copy(x)\n",
    "        for i in range(n):\n",
    "            sum_ = 0\n",
    "            for j in range(n):\n",
    "                if i != j:\n",
    "                    sum_ += A[i][j] * x[j]\n",
    "            x[i] = (b[i] - sum_) / A[i][i]\n",
    "        print(f'for {it} iterations x={x}')\n",
    "    print(\"Max iterations reached\")\n",
    "    return x\n",
    "\n",
    "A = np.array([[10, -1, 2, 0],\n",
    "              [-1, 11, -1, 3],\n",
    "              [2, -1, 10, -1],\n",
    "              [0, 3, -1, 8]], dtype=float)\n",
    "\n",
    "b = np.array([6, 25, -11, 15], dtype=float)\n",
    "\n",
    "x_gauss_seidel = gauss_seidel_method(A, b)\n",
    "print(x_gauss_seidel)"
   ]
  },
  {
   "cell_type": "code",
   "execution_count": null,
   "metadata": {},
   "outputs": [],
   "source": []
  }
 ],
 "metadata": {
  "kernelspec": {
   "display_name": "base",
   "language": "python",
   "name": "python3"
  },
  "language_info": {
   "codemirror_mode": {
    "name": "ipython",
    "version": 3
   },
   "file_extension": ".py",
   "mimetype": "text/x-python",
   "name": "python",
   "nbconvert_exporter": "python",
   "pygments_lexer": "ipython3",
   "version": "3.12.4"
  }
 },
 "nbformat": 4,
 "nbformat_minor": 2
}
