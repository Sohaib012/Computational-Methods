{
 "cells": [
  {
   "cell_type": "code",
   "execution_count": 13,
   "metadata": {},
   "outputs": [
    {
     "name": "stdout",
     "output_type": "stream",
     "text": [
      "x\tApprox. y\tExact y\tAbsolute Error\n",
      "0.0\t0.5000\t0.5000\t0.0000\n",
      "0.2\t0.8000\t0.8293\t0.0293\n",
      "0.4\t1.1520\t1.2141\t0.0621\n",
      "0.6\t1.5504\t1.6489\t0.0985\n",
      "0.8\t1.9885\t2.1272\t0.1387\n",
      "1.0\t2.4582\t2.6409\t0.1827\n",
      "1.2\t2.9498\t3.1799\t0.2301\n",
      "1.4\t3.4518\t3.7324\t0.2806\n",
      "1.6\t3.9501\t4.2835\t0.3334\n",
      "1.8\t4.4282\t4.8152\t0.3870\n",
      "2.0\t4.8658\t5.3055\t0.4397\n"
     ]
    }
   ],
   "source": [
    "import numpy as np\n",
    "import matplotlib.pyplot as plt\n",
    "\n",
    "def f(t, y):\n",
    "    return y - t**2 + 1\n",
    "\n",
    "def exact_solution(t):\n",
    "    return (t + 1)**2 - 0.5 * np.exp(t)\n",
    "\n",
    "def eulers_method(f, x0, y0, x_end, h):\n",
    "    # Initialize the list of x and y values\n",
    "    x_values = np.arange(x0, x_end + h, h)\n",
    "    y_values = [y0]\n",
    "    \n",
    "    # Iterate using Euler's method formula\n",
    "    for x in x_values[:-1]:\n",
    "        y_new = y_values[-1] + h * f(x, y_values[-1])\n",
    "        y_values.append(y_new)\n",
    "    \n",
    "    return x_values, np.array(y_values)\n",
    "\n",
    "x0 = 0   \n",
    "y0 = 0.5 \n",
    "x_end = 2  \n",
    "h = 0.2    \n",
    "\n",
    "x_values, y_values_approx = eulers_method(f, x0, y0, x_end, h)\n",
    "y_values_exact = exact_solution(x_values)\n",
    "absolute_error = np.abs(y_values_exact - y_values_approx)\n",
    "\n",
    "# plt.figure()\n",
    "\n",
    "# plt.plot(x_values, y_values_approx, label=\"Euler's Method\", color='b', marker='o')\n",
    "# plt.plot(x_values, y_values_exact, label=\"Exact Solution\", color='r', linestyle='--')\n",
    "# plt.xlabel('x')\n",
    "# plt.ylabel('y')\n",
    "# plt.legend()\n",
    "# plt.grid(True)\n",
    "# plt.show()\n",
    "\n",
    "print(\"x\\tApprox. y\\tExact y\\tAbsolute Error\")\n",
    "for x, approx, exact, error in zip(x_values, y_values_approx, y_values_exact, absolute_error):\n",
    "    print(f\"{x:.1f}\\t{approx:.4f}\\t{exact:.4f}\\t{error:.4f}\")\n"
   ]
  },
  {
   "cell_type": "code",
   "execution_count": 20,
   "metadata": {},
   "outputs": [
    {
     "name": "stdout",
     "output_type": "stream",
     "text": [
      "x\tApprox. y\tExact y\tAbsolute Error\n",
      "0.0\t0.500000\t0.500000\t0.000000\n",
      "0.2\t0.829293\t0.829299\t0.000005\n",
      "0.4\t1.214076\t1.214088\t0.000011\n",
      "0.6\t1.648922\t1.648941\t0.000019\n",
      "0.8\t2.127203\t2.127230\t0.000027\n",
      "1.0\t2.640823\t2.640859\t0.000036\n",
      "1.2\t3.179894\t3.179942\t0.000047\n",
      "1.4\t3.732340\t3.732400\t0.000060\n",
      "1.6\t4.283409\t4.283484\t0.000074\n",
      "1.8\t4.815086\t4.815176\t0.000091\n",
      "2.0\t5.305363\t5.305472\t0.000109\n"
     ]
    }
   ],
   "source": [
    "import numpy as np\n",
    "import matplotlib.pyplot as plt\n",
    "\n",
    "def f(t, y):\n",
    "    return y - t**2 + 1\n",
    "\n",
    "def exact_solution(t):\n",
    "    return (t + 1)**2 - 0.5 * np.exp(t)\n",
    "\n",
    "def runge_kutta_4(f, x0, y0, x_end, h):\n",
    "    # Initialize the list of x and y values\n",
    "    x_values = np.arange(x0, x_end + h, h)\n",
    "    y_values = [y0]\n",
    "    \n",
    "    # Iterate using the RK4 formula\n",
    "    for x in x_values[:-1]:\n",
    "        k1 = h * f(x, y_values[-1])\n",
    "        k2 = h * f(x + h / 2, y_values[-1] + k1 / 2)\n",
    "        k3 = h * f(x + h / 2, y_values[-1] + k2 / 2)\n",
    "        k4 = h * f(x + h, y_values[-1] + k3)\n",
    "        \n",
    "        # Compute the next y value\n",
    "        y_new = y_values[-1] + (1/6) * (k1 + 2*k2 + 2*k3 + k4)\n",
    "        y_values.append(y_new)\n",
    "    \n",
    "    return x_values, np.array(y_values)\n",
    "\n",
    "x0 = 0  \n",
    "y0 = 0.5 \n",
    "x_end = 2  \n",
    "h = 0.2   \n",
    "\n",
    "x_values, y_values_approx = runge_kutta_4(f, x0, y0, x_end, h)\n",
    "y_values_exact = exact_solution(x_values)\n",
    "\n",
    "absolute_error = np.abs(y_values_exact - y_values_approx)\n",
    "\n",
    "# plt.figure()\n",
    "\n",
    "# plt.plot(x_values, y_values_approx, label=\"RK4 Method\", color='b', marker='o')\n",
    "# plt.plot(x_values, y_values_exact, label=\"Exact Solution\", color='r', linestyle='--')\n",
    "# plt.xlabel('x')\n",
    "# plt.ylabel('y')\n",
    "# plt.legend()\n",
    "# plt.grid(True)\n",
    "# plt.show()\n",
    "\n",
    "print(\"x\\tApprox. y\\tExact y\\tAbsolute Error\")\n",
    "for x, approx, exact, error in zip(x_values, y_values_approx, y_values_exact, absolute_error):\n",
    "    print(f\"{x:.1f}\\t{approx:.6f}\\t{exact:.6f}\\t{error:.6f}\")\n"
   ]
  },
  {
   "cell_type": "code",
   "execution_count": null,
   "metadata": {},
   "outputs": [],
   "source": [
    "\n",
    "\n",
    "\n",
    "\n",
    "\n",
    "\n",
    "\n",
    "\n"
   ]
  },
  {
   "cell_type": "code",
   "execution_count": null,
   "metadata": {},
   "outputs": [],
   "source": []
  }
 ],
 "metadata": {
  "kernelspec": {
   "display_name": "base",
   "language": "python",
   "name": "python3"
  },
  "language_info": {
   "codemirror_mode": {
    "name": "ipython",
    "version": 3
   },
   "file_extension": ".py",
   "mimetype": "text/x-python",
   "name": "python",
   "nbconvert_exporter": "python",
   "pygments_lexer": "ipython3",
   "version": "3.12.4"
  }
 },
 "nbformat": 4,
 "nbformat_minor": 2
}
